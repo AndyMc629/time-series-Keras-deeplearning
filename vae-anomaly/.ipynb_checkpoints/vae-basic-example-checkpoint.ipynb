{
 "cells": [
  {
   "cell_type": "code",
   "execution_count": 4,
   "metadata": {},
   "outputs": [],
   "source": [
    "import os\n",
    "import numpy as np\n",
    "#import tensorflow as tf\n",
    "from keras.layers import RepeatVector\n",
    "from keras.layers.core import Dropout\n",
    "from keras.layers.recurrent import LSTM\n",
    "from keras.models import Sequential\n",
    "from keras.models import load_model\n",
    "np.random.seed(123)"
   ]
  },
  {
   "cell_type": "code",
   "execution_count": 5,
   "metadata": {},
   "outputs": [],
   "source": [
    "def prepare_sequences(x_train, window_length, random_indices):\n",
    "    full_sequence = x_train.flatten()\n",
    "    windows = []\n",
    "    outliers = []\n",
    "    for window_start in range(0, len(full_sequence) - window_length + 1):\n",
    "        window_end = window_start + window_length\n",
    "        window_range = range(window_start, window_end)\n",
    "        window = list(full_sequence[window_range])\n",
    "        contain_outlier = len(set(window_range).intersection(set(random_indices))) > 0\n",
    "        outliers.append(contain_outlier)\n",
    "        windows.append(window)\n",
    "    return np.expand_dims(np.array(windows), axis=2), outliers\n",
    "\n",
    "\n",
    "def get_signal(size, outliers_size=0.01):\n",
    "    sig = np.expand_dims(np.random.normal(loc=0, scale=1, size=(size, 1)), axis=1)\n",
    "    if outliers_size < 1:  # percentage.\n",
    "        outliers_size = int(size * outliers_size)\n",
    "    random_indices = np.random.choice(range(size), size=outliers_size, replace=False)\n",
    "    sig[random_indices] = np.random.randint(6, 9, 1)[0]\n",
    "    return sig, random_indices\n",
    "\n",
    "\n",
    "def tp_fn_fp_tn(total, expected, actual):\n",
    "    tp = len(set(expected).intersection(set(actual)))\n",
    "    fn = len(set(expected) - set(actual))\n",
    "    fp = len(set(actual) - set(expected))\n",
    "    tn = len((total - set(expected)).intersection(total - set(actual)))\n",
    "    return tp, fn, fp, tn"
   ]
  },
  {
   "cell_type": "code",
   "execution_count": 6,
   "metadata": {},
   "outputs": [],
   "source": [
    "window_length = 10\n",
    "select_only_last_state = False\n",
    "model_file = 'model.h5'\n",
    "hidden_dim = 16\n",
    "\n",
    "# no outliers.\n",
    "signal_train, _ = get_signal(100000, outliers_size=0)\n",
    "x_train, _ = prepare_sequences(signal_train, window_length, [])\n",
    "\n",
    "# 1 percent are outliers.\n",
    "signal_test, random_indices = get_signal(100000, outliers_size=0.01)\n",
    "x_test, contain_outliers = prepare_sequences(signal_test, window_length, random_indices)\n",
    "outlier_indices = np.where(contain_outliers)[0]"
   ]
  },
  {
   "cell_type": "code",
   "execution_count": 7,
   "metadata": {},
   "outputs": [
    {
     "name": "stderr",
     "output_type": "stream",
     "text": [
      "/opt/anaconda2/envs/py36/lib/python3.6/site-packages/ipykernel/__main__.py:10: UserWarning: Update your `Dropout` call to the Keras 2 API: `Dropout(rate=0.1)`\n",
      "/opt/anaconda2/envs/py36/lib/python3.6/site-packages/ipykernel/__main__.py:13: UserWarning: The `nb_epoch` argument in `fit` has been renamed `epochs`.\n"
     ]
    },
    {
     "name": "stdout",
     "output_type": "stream",
     "text": [
      "Train on 99991 samples, validate on 99991 samples\n",
      "Epoch 1/5\n",
      "99991/99991 [==============================] - 16s 161us/step - loss: 0.1157 - val_loss: 0.2182\n",
      "Epoch 2/5\n",
      "99991/99991 [==============================] - 15s 149us/step - loss: 0.0154 - val_loss: 0.1922\n",
      "Epoch 3/5\n",
      "99991/99991 [==============================] - 15s 153us/step - loss: 0.0116 - val_loss: 0.1652\n",
      "Epoch 4/5\n",
      "99991/99991 [==============================] - 16s 156us/step - loss: 0.0098 - val_loss: 0.1355\n",
      "Epoch 5/5\n",
      "99991/99991 [==============================] - 15s 151us/step - loss: 0.0088 - val_loss: 0.1140\n"
     ]
    }
   ],
   "source": [
    "if os.path.isfile(model_file):\n",
    "    m = load_model(model_file)\n",
    "else:\n",
    "    m = Sequential()\n",
    "    if select_only_last_state:\n",
    "        m.add(LSTM(hidden_dim, input_shape=(window_length, 1), return_sequences=False))\n",
    "        m.add(RepeatVector(window_length))\n",
    "    else:\n",
    "        m.add(LSTM(hidden_dim, input_shape=(window_length, 1), return_sequences=True))\n",
    "    m.add(Dropout(p=0.1))\n",
    "    m.add(LSTM(1, return_sequences=True, activation='linear'))\n",
    "    m.compile(loss='mse', optimizer='adam')\n",
    "    m.fit(x_train, x_train, batch_size=64, nb_epoch=5, validation_data=(x_test, x_test))\n",
    "    m.save(model_file)"
   ]
  },
  {
   "cell_type": "code",
   "execution_count": 8,
   "metadata": {},
   "outputs": [],
   "source": [
    "pred_x_test = m.predict(x_test)\n",
    "mae_of_predictions = np.squeeze(np.max(np.square(pred_x_test - x_test), axis=1))\n",
    "mae_threshold = np.mean(mae_of_predictions) + np.std(mae_of_predictions)  # can use a running mean instead.\n",
    "actual = np.where(mae_of_predictions > mae_threshold)[0]"
   ]
  },
  {
   "cell_type": "code",
   "execution_count": 9,
   "metadata": {},
   "outputs": [
    {
     "name": "stdout",
     "output_type": "stream",
     "text": [
      "precision = 1.0, hit_rate = 1.0, accuracy = 1.0\n"
     ]
    }
   ],
   "source": [
    "tp, fn, fp, tn = tp_fn_fp_tn(set(range(len(pred_x_test))), outlier_indices, actual)\n",
    "precision = float(tp) / (tp + fp)\n",
    "hit_rate = float(tp) / (tp + fn)\n",
    "accuracy = float(tp + tn) / (tp + tn + fp + fn)\n",
    "\n",
    "print('precision = {}, hit_rate = {}, accuracy = {}'.format(precision, hit_rate, accuracy))"
   ]
  },
  {
   "cell_type": "markdown",
   "metadata": {},
   "source": [
    "## Plotting results"
   ]
  },
  {
   "cell_type": "code",
   "execution_count": 11,
   "metadata": {},
   "outputs": [],
   "source": [
    "import matplotlib.pyplot as plt\n",
    "#matplotlib inline"
   ]
  },
  {
   "cell_type": "code",
   "execution_count": 14,
   "metadata": {},
   "outputs": [
    {
     "data": {
      "text/plain": [
       "(99991, 10, 1)"
      ]
     },
     "execution_count": 14,
     "metadata": {},
     "output_type": "execute_result"
    }
   ],
   "source": [
    "pred_x_test.shape"
   ]
  },
  {
   "cell_type": "code",
   "execution_count": 15,
   "metadata": {},
   "outputs": [
    {
     "data": {
      "text/plain": [
       "99991"
      ]
     },
     "execution_count": 15,
     "metadata": {},
     "output_type": "execute_result"
    }
   ],
   "source": [
    "len(x_test)"
   ]
  },
  {
   "cell_type": "code",
   "execution_count": 22,
   "metadata": {},
   "outputs": [
    {
     "data": {
      "text/plain": [
       "[<matplotlib.lines.Line2D at 0x7fea3d790748>]"
      ]
     },
     "execution_count": 22,
     "metadata": {},
     "output_type": "execute_result"
    },
    {
     "data": {
      "image/png": "[encoded data removed]",
      "text/plain": [
       "<matplotlib.figure.Figure at 0x7fea6003bc88>"
      ]
     },
     "metadata": {},
     "output_type": "display_data"
    }
   ],
   "source": [
    "plt.plot(range(len(x_test)), np.squeeze(np.max(pred_x_test, axis=1)))"
   ]
  },
  {
   "cell_type": "code",
   "execution_count": 43,
   "metadata": {},
   "outputs": [
    {
     "data": {
      "text/plain": [
       "[<matplotlib.lines.Line2D at 0x7fea183f6358>]"
      ]
     },
     "execution_count": 43,
     "metadata": {},
     "output_type": "execute_result"
    },
    {
     "data": {
      "image/png": "[encoded data removed]",
      "text/plain": [
       "<matplotlib.figure.Figure at 0x7fea184b9eb8>"
      ]
     },
     "metadata": {},
     "output_type": "display_data"
    }
   ],
   "source": [
    "#sig = np.expand_dims(np.random.normal(loc=0, scale=1, size=(10, 1)), axis=1)\n",
    "x=np.linspace(-20,20, 201) * np.pi \n",
    "sig = np.expand_dims(np.sin(x), axis=1)\n",
    "plt.plot(x, sig)"
   ]
  },
  {
   "cell_type": "code",
   "execution_count": null,
   "metadata": {},
   "outputs": [],
   "source": []
  }
 ],
 "metadata": {
  "kernelspec": {
   "display_name": "Python [conda env:py36]",
   "language": "python",
   "name": "conda-env-py36-py"
  },
  "language_info": {
   "codemirror_mode": {
    "name": "ipython",
    "version": 3
   },
   "file_extension": ".py",
   "mimetype": "text/x-python",
   "name": "python",
   "nbconvert_exporter": "python",
   "pygments_lexer": "ipython3",
   "version": "3.6.5"
  }
 },
 "nbformat": 4,
 "nbformat_minor": 2
}
